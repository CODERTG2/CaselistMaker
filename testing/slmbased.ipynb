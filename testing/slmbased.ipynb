{
 "cells": [
  {
   "cell_type": "code",
   "execution_count": 27,
   "id": "8a03edcd",
   "metadata": {},
   "outputs": [],
   "source": [
    "from transformers import AutoModelForCausalLM, AutoTokenizer\n",
    "\n",
    "tokenizer = AutoTokenizer.from_pretrained(\"TinyLlama/TinyLlama-1.1B-Chat-v1.0\")\n",
    "model = AutoModelForCausalLM.from_pretrained(\"TinyLlama/TinyLlama-1.1B-Chat-v1.0\")\n"
   ]
  },
  {
   "cell_type": "code",
   "execution_count": 7,
   "id": "6ec6d146",
   "metadata": {},
   "outputs": [],
   "source": [
    "all_args = input(\"Copy paste the disclosure part only.\")"
   ]
  },
  {
   "cell_type": "code",
   "execution_count": null,
   "id": "85eb4907",
   "metadata": {},
   "outputs": [],
   "source": [
    "prompt = f\"\"\"\n",
    "        All the arguments:\n",
    "        {all_args}\n",
    "\n",
    "        - read through all the different arguments.\n",
    "        - make sure you are checking all the 1NC arguments first\n",
    "        - if the 1NC list doesn't exist check 2NC or 1NR or 2NR.\n",
    "        - compile and only return a list of unique arguments.\n",
    "        - the arguments should be labeled based on the type of argument.\n",
    "        for example, if the argument is the Economy DA then return it as DA-Economy.\n",
    "        - so it should be argument type (CP, T, DA, CT, P) dash argument name.\n",
    "        Only return the list of the arguments like \"CP-Argument, T-Argument\"\n",
    "        - dont give me a python code or anything but just a list of all the unique 1NC and 2NR.\n",
    "        - there shouldnt be repeating arguments under 1NC or 2NR\n",
    "        \"\"\""
   ]
  },
  {
   "cell_type": "code",
   "execution_count": 15,
   "id": "50424697",
   "metadata": {},
   "outputs": [],
   "source": [
    "inputs = tokenizer(prompt, return_tensors='pt')"
   ]
  },
  {
   "cell_type": "code",
   "execution_count": 16,
   "id": "31a5d883",
   "metadata": {},
   "outputs": [],
   "source": [
    "outputs = model.generate(**inputs, max_new_tokens=1024)"
   ]
  },
  {
   "cell_type": "code",
   "execution_count": 17,
   "id": "b3180e82",
   "metadata": {},
   "outputs": [
    {
     "name": "stdout",
     "output_type": "stream",
     "text": [
      "tensor([    1,   887,   526,  ..., 29892, 25215, 28505])\n"
     ]
    }
   ],
   "source": [
    "print(outputs[0])"
   ]
  },
  {
   "cell_type": "code",
   "execution_count": 18,
   "id": "a0597fff",
   "metadata": {},
   "outputs": [],
   "source": [
    "decoded = tokenizer.decode(outputs[0], skip_special_tokens=True)"
   ]
  },
  {
   "cell_type": "code",
   "execution_count": 19,
   "id": "6e2c4023",
   "metadata": {},
   "outputs": [
    {
     "name": "stdout",
     "output_type": "stream",
     "text": [
      "You are an AI assistant that can take a list of policy debate arguments\n",
      "        and give a list of only unique policy debate arguments for a debater's caselist.\n",
      "        - read through all the different arguments.\n",
      "        - make sure you are checking all the 1NC arguments first\n",
      "        - if the 1NC list doesn't exist check 2NC or 1NR or 2NR.\n",
      "        - compile and only return a list of unique arguments.\n",
      "        - the arguments should be labeled based on the type of argument.\n",
      "        for example, if the argument is the Economy DA then return it as DA-Economy.\n",
      "        - so it should be argument type (CP, T, DA, CT, P) dash argument name.\n",
      "        Only return the list of the arguments like \"CP-Argument, T-Argument\"\n",
      "\n",
      "        All the arguments:\n",
      "        1AC: Property K Aff 1NC: T-USFG, Ballot PIC, Academy K 2NR: T-USFG  1AC: TCEs 1NC: T-Domestic, T-Subsets, O-Spec, Sui Generis CP, Court Clog DA 2NR: Sui Generis CP, Court Clog DA  1AC: Ebay/Injunctives 1NC: China K, Inflation DA, Court Clog DA 2NR: Inflation DA  1AC: Semiconductors 1NC: China K, Biz Con DA, Court Clog DA, T-enforcement 2NR: China K, Biz Con DA, Court Clog DA  1AC: Anti-trust 1NC: China K, Biz Con DA, Court Clog DA 2NR: China K, Biz Con DA  1AC: Anti-trust 1NC: Blockchain PIC, Biz Con DA, Court Clog DA 2NR: Blockchain PIC, Biz Con DA  1AC - Blockchain 1NC - Security K, Econ DA, Court Clog DA 2NR - Econ DA  1AC - Indigenous Copyright 1NC - T-subsets, Sui Generis CP, Court Clog DA 2NR - Court Clog DA  1AC - Ecommerce in use 1NC - Court Clog DA, Econ DA, T-Protection 2NR - Econ DA  1AC - Diagnostics 1NC - Ban IP CP, Prizes CP, Court Clog DA, Economy DA 2NR - Economy DA 2AR - Warming Good  1AC - E-Commerce 1NC - Blockchain PIC, Adv CP, Court Clog DA, Inflation DA 2NR - Court Clog DA  1AC: Recordings 1NC: T-Domestic, Treaties CP, Sui Generis CP, Court Clog DA 2NR: Treaties CP, Court Clog DA  1AC: Contracts 1NC: ASPEC, China K, Prizes CP, Court Clog DA 2NR: ASPEC, Prizes CP, Court Clog DA  1AC: Ecommerce 1NC: Inflation DA, Court Clog DA, Blockchain PIC 2NR: Inflation DA, Court Clog DA  1AC - Trademark Bullying 1NC - T-strengthen, PTO Tradeoff DA, Court Clog DA 2NR - PTO Tradeoff DA  1AC: Pirates 1NC: Cap K, Court Clog DA, T-Strengthen, Growth Bad, Democracy Bad 2NR: Growth Bad\n",
      "        \n",
      "        All the arguments:\n",
      "        1AC: Property K Aff 1NC: T-USFG, Ballot PIC, Academy K 2NR: T-USFG  1AC: TCEs 1NC: T-Domestic, T-Subsets, O-Spec, Sui Generis CP, Court Clog DA 2NR: Sui Generis CP, Court Clog DA  1AC: Ebay/Injunctives 1NC: China K, Inflation DA, Court Clog DA 2NR: Inflation DA  1AC: Semiconductors 1NC: China K, Biz Con DA, Court Clog DA, T-enforcement 2NR: China K, Biz Con DA, Court Clog DA  1AC: Anti-trust 1NC: China K, Biz Con DA, Court Clog DA 2NR: China K, Biz Con DA  1AC: Anti-trust 1NC: Blockchain PIC, Biz Con DA, Court Clog DA 2NR: Blockchain PIC, Biz Con DA  1AC - Blockchain 1NC - Security K, Econ DA, Court Clog DA 2NR - Econ DA  1AC - Indigenous Copyright 1NC - T-subsets, Sui Generis CP, Court Clog DA 2NR - Court Clog DA  1AC - Ecommerce in use 1NC - Court Clog DA, Econ DA, T-Protection 2NR - Econ DA  1AC - Diagnostics 1NC - Ban IP CP, Prizes CP, Court Clog DA, Economy DA 2NR - Economy DA 2AR - Warming Good  1AC - E-Commerce 1NC - Blockchain PIC, Adv CP, Court Clog DA, Inflation DA 2NR - Court Clog DA  1AC: Recordings 1NC: T-Domestic, Treaties CP, Sui Generis CP, Court Clog DA 2NR: Treaties CP, Court Clog DA  1AC: Contracts 1NC: ASPEC, China K, Prizes CP, Court Clog DA 2NR: ASPEC, Prizes CP, Court Clog DA  1AC: Ecommerce 1NC: Inflation DA, Court Clog DA, Blockchain PIC 2NR: Inflation DA, Court Clog DA  1AC - Trademark Bullying 1NC - T-strengthen, PTO Tradeoff DA, Court Clog DA 2NR - PTO Tradeoff DA  1AC: Pirates 1NC: Cap K, Court Clog DA, T-Strengthen, Growth Bad, Democracy Bad 2NR: Growth Bad\n",
      "        \n",
      "        All the arguments:\n",
      "        1AC: Property K Aff 1NC: T-USFG, Ballot PIC, Academy K 2NR: T-USFG  1AC: TCEs 1NC: T-Domestic, T-Subsets, O-Spec, Sui Generis CP, Court Clog DA 2NR: Sui Generis CP, Court Clog DA  1AC: Ebay/Injunctives 1NC: China K, Inflation DA, Court Clog DA 2NR: Inflation DA  1AC: Semiconductors 1NC: China K, Biz Con DA, Court Clog DA, T-enforcement 2NR: China K, Biz Con DA, Court Clog DA  1AC: Anti-trust 1NC: China K, Biz Con DA, Court Clog DA 2NR: China K, Biz Con DA  1AC: Anti-trust 1NC: Blockchain PIC, Biz Con DA, Court Clog DA 2NR: Blockchain PIC, Biz Con DA  1AC - Blockchain 1NC - Security K, Econ DA, Court Clog DA 2NR - Econ DA  1AC - Indigenous Copyright 1NC - T-subsets, Sui Generis CP, Court Clog DA 2NR - Court Clog DA  1AC - Ecommerce in use 1NC - Court Clog DA, Econ DA, T-Protection 2NR - Econ DA  1AC - Diagnostics 1NC - Ban IP CP, Prizes CP, Court Clog DA, Economy DA 2NR - Economy DA 2AR - Warming Good  1AC - E-Commerce 1NC - Blockchain PIC, Adv CP\n"
     ]
    }
   ],
   "source": [
    "print(decoded)"
   ]
  },
  {
   "cell_type": "code",
   "execution_count": 32,
   "id": "9811433b",
   "metadata": {},
   "outputs": [
    {
     "name": "stdout",
     "output_type": "stream",
     "text": [
      "\n",
      "        All the arguments:\n",
      "        1AC: Property K Aff 1NC: T-USFG, Ballot PIC, Academy K 2NR: T-USFG  1AC: TCEs 1NC: T-Domestic, T-Subsets, O-Spec, Sui Generis CP, Court Clog DA 2NR: Sui Generis CP, Court Clog DA  1AC: Ebay/Injunctives 1NC: China K, Inflation DA, Court Clog DA 2NR: Inflation DA  1AC: Semiconductors 1NC: China K, Biz Con DA, Court Clog DA, T-enforcement 2NR: China K, Biz Con DA, Court Clog DA  1AC: Anti-trust 1NC: China K, Biz Con DA, Court Clog DA 2NR: China K, Biz Con DA  1AC: Anti-trust 1NC: Blockchain PIC, Biz Con DA, Court Clog DA 2NR: Blockchain PIC, Biz Con DA  1AC - Blockchain 1NC - Security K, Econ DA, Court Clog DA 2NR - Econ DA  1AC - Indigenous Copyright 1NC - T-subsets, Sui Generis CP, Court Clog DA 2NR - Court Clog DA  1AC - Ecommerce in use 1NC - Court Clog DA, Econ DA, T-Protection 2NR - Econ DA  1AC - Diagnostics 1NC - Ban IP CP, Prizes CP, Court Clog DA, Economy DA 2NR - Economy DA 2AR - Warming Good  1AC - E-Commerce 1NC - Blockchain PIC, Adv CP, Court Clog DA, Inflation DA 2NR - Court Clog DA  1AC: Recordings 1NC: T-Domestic, Treaties CP, Sui Generis CP, Court Clog DA 2NR: Treaties CP, Court Clog DA  1AC: Contracts 1NC: ASPEC, China K, Prizes CP, Court Clog DA 2NR: ASPEC, Prizes CP, Court Clog DA  1AC: Ecommerce 1NC: Inflation DA, Court Clog DA, Blockchain PIC 2NR: Inflation DA, Court Clog DA  1AC - Trademark Bullying 1NC - T-strengthen, PTO Tradeoff DA, Court Clog DA 2NR - PTO Tradeoff DA  1AC: Pirates 1NC: Cap K, Court Clog DA, T-Strengthen, Growth Bad, Democracy Bad 2NR: Growth Bad\n",
      "\n",
      "        - read through all the different arguments.\n",
      "        - make sure you are checking all the 1NC arguments first\n",
      "        - if the 1NC list doesn't exist check 2NC or 1NR or 2NR.\n",
      "        - compile and only return a list of unique arguments.\n",
      "        - the arguments should be labeled based on the type of argument.\n",
      "        for example, if the argument is the Economy DA then return it as DA-Economy.\n",
      "        - so it should be argument type (CP, T, DA, CT, P) dash argument name.\n",
      "        Only return the list of the arguments like \"CP-Argument, T-Argument\"\n",
      "        - dont give me a python code or anything but just a list of all the unique 1NC and 2NR.\n",
      "        \n"
     ]
    }
   ],
   "source": [
    "print(prompt)"
   ]
  },
  {
   "cell_type": "code",
   "execution_count": null,
   "id": "e37f72a1",
   "metadata": {},
   "outputs": [],
   "source": []
  }
 ],
 "metadata": {
  "kernelspec": {
   "display_name": ".venv",
   "language": "python",
   "name": "python3"
  },
  "language_info": {
   "codemirror_mode": {
    "name": "ipython",
    "version": 3
   },
   "file_extension": ".py",
   "mimetype": "text/x-python",
   "name": "python",
   "nbconvert_exporter": "python",
   "pygments_lexer": "ipython3",
   "version": "3.10.8"
  }
 },
 "nbformat": 4,
 "nbformat_minor": 5
}
